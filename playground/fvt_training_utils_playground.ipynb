{
 "cells": [
  {
   "cell_type": "code",
   "execution_count": 1,
   "metadata": {},
   "outputs": [
    {
     "name": "stderr",
     "output_type": "stream",
     "text": [
      "  0%|          | 0/6 [00:00<?, ?it/s]"
     ]
    },
    {
     "name": "stdout",
     "output_type": "stream",
     "text": [
      "successfully loaded {'experiment_name': 'fvt_training_n_samples_1', 'seed': 42, 'n_sample_ratio': 0.03125}\n"
     ]
    },
    {
     "name": "stderr",
     "output_type": "stream",
     "text": [
      "Seed set to 42\n",
      " 17%|█▋        | 1/6 [00:12<01:00, 12.10s/it]"
     ]
    },
    {
     "name": "stdout",
     "output_type": "stream",
     "text": [
      "4b ratio:  0.50367725\n",
      "Signal ratio:  0.009958669\n",
      "successfully loaded {'experiment_name': 'fvt_training_n_samples_1', 'seed': 42, 'n_sample_ratio': 0.0625}\n"
     ]
    },
    {
     "name": "stderr",
     "output_type": "stream",
     "text": [
      "Seed set to 42\n",
      " 33%|███▎      | 2/6 [00:32<01:09, 17.26s/it]"
     ]
    },
    {
     "name": "stdout",
     "output_type": "stream",
     "text": [
      "4b ratio:  0.5034877\n",
      "Signal ratio:  0.009824955\n",
      "successfully loaded {'experiment_name': 'fvt_training_n_samples_1', 'seed': 42, 'n_sample_ratio': 0.125}\n"
     ]
    },
    {
     "name": "stderr",
     "output_type": "stream",
     "text": [
      "Seed set to 42\n",
      " 50%|█████     | 3/6 [00:49<00:50, 16.91s/it]"
     ]
    },
    {
     "name": "stdout",
     "output_type": "stream",
     "text": [
      "4b ratio:  0.50123215\n",
      "Signal ratio:  0.009831276\n",
      "successfully loaded {'experiment_name': 'fvt_training_n_samples_1', 'seed': 42, 'n_sample_ratio': 0.25}\n"
     ]
    },
    {
     "name": "stderr",
     "output_type": "stream",
     "text": [
      "Seed set to 42\n",
      " 67%|██████▋   | 4/6 [01:03<00:31, 15.72s/it]"
     ]
    },
    {
     "name": "stdout",
     "output_type": "stream",
     "text": [
      "4b ratio:  0.5009648\n",
      "Signal ratio:  0.009960095\n",
      "successfully loaded {'experiment_name': 'fvt_training_n_samples_1', 'seed': 42, 'n_sample_ratio': 0.5}\n"
     ]
    },
    {
     "name": "stderr",
     "output_type": "stream",
     "text": [
      "Seed set to 42\n"
     ]
    },
    {
     "name": "stdout",
     "output_type": "stream",
     "text": [
      "4b ratio:  0.5016605\n",
      "Signal ratio:  0.009857018\n"
     ]
    },
    {
     "name": "stderr",
     "output_type": "stream",
     "text": [
      " 83%|████████▎ | 5/6 [01:20<00:16, 16.13s/it]"
     ]
    },
    {
     "name": "stdout",
     "output_type": "stream",
     "text": [
      "successfully loaded {'experiment_name': 'fvt_training_n_samples_1', 'seed': 42, 'n_sample_ratio': 1.0}\n"
     ]
    },
    {
     "name": "stderr",
     "output_type": "stream",
     "text": [
      "Seed set to 42\n"
     ]
    },
    {
     "name": "stdout",
     "output_type": "stream",
     "text": [
      "4b ratio:  0.5008906\n",
      "Signal ratio:  0.009983843\n"
     ]
    },
    {
     "name": "stderr",
     "output_type": "stream",
     "text": [
      "100%|██████████| 6/6 [01:34<00:00, 15.70s/it]\n",
      "  0%|          | 0/6 [00:00<?, ?it/s]"
     ]
    },
    {
     "name": "stdout",
     "output_type": "stream",
     "text": [
      "successfully loaded {'experiment_name': 'fvt_training_n_samples_1', 'seed': 52, 'n_sample_ratio': 0.03125}\n"
     ]
    },
    {
     "name": "stderr",
     "output_type": "stream",
     "text": [
      "Seed set to 52\n",
      " 17%|█▋        | 1/6 [00:07<00:35,  7.13s/it]"
     ]
    },
    {
     "name": "stdout",
     "output_type": "stream",
     "text": [
      "4b ratio:  0.50431406\n",
      "Signal ratio:  0.009580999\n",
      "successfully loaded {'experiment_name': 'fvt_training_n_samples_1', 'seed': 52, 'n_sample_ratio': 0.0625}\n"
     ]
    },
    {
     "name": "stderr",
     "output_type": "stream",
     "text": [
      "Seed set to 52\n",
      " 33%|███▎      | 2/6 [00:13<00:27,  6.84s/it]"
     ]
    },
    {
     "name": "stdout",
     "output_type": "stream",
     "text": [
      "4b ratio:  0.5001128\n",
      "Signal ratio:  0.009562527\n",
      "successfully loaded {'experiment_name': 'fvt_training_n_samples_1', 'seed': 52, 'n_sample_ratio': 0.125}\n"
     ]
    },
    {
     "name": "stderr",
     "output_type": "stream",
     "text": [
      "Seed set to 52\n",
      " 50%|█████     | 3/6 [00:20<00:20,  6.79s/it]"
     ]
    },
    {
     "name": "stdout",
     "output_type": "stream",
     "text": [
      "4b ratio:  0.49942604\n",
      "Signal ratio:  0.01008778\n",
      "successfully loaded {'experiment_name': 'fvt_training_n_samples_1', 'seed': 52, 'n_sample_ratio': 0.25}\n"
     ]
    },
    {
     "name": "stderr",
     "output_type": "stream",
     "text": [
      "Seed set to 52\n",
      " 67%|██████▋   | 4/6 [00:27<00:13,  6.87s/it]"
     ]
    },
    {
     "name": "stdout",
     "output_type": "stream",
     "text": [
      "4b ratio:  0.50200784\n",
      "Signal ratio:  0.010063941\n",
      "successfully loaded {'experiment_name': 'fvt_training_n_samples_1', 'seed': 52, 'n_sample_ratio': 0.5}\n"
     ]
    },
    {
     "name": "stderr",
     "output_type": "stream",
     "text": [
      "Seed set to 52\n"
     ]
    },
    {
     "name": "stdout",
     "output_type": "stream",
     "text": [
      "4b ratio:  0.50151694\n",
      "Signal ratio:  0.009999516\n"
     ]
    },
    {
     "name": "stderr",
     "output_type": "stream",
     "text": [
      " 83%|████████▎ | 5/6 [00:35<00:07,  7.16s/it]"
     ]
    },
    {
     "name": "stdout",
     "output_type": "stream",
     "text": [
      "successfully loaded {'experiment_name': 'fvt_training_n_samples_1', 'seed': 52, 'n_sample_ratio': 1.0}\n"
     ]
    },
    {
     "name": "stderr",
     "output_type": "stream",
     "text": [
      "Seed set to 52\n"
     ]
    },
    {
     "name": "stdout",
     "output_type": "stream",
     "text": [
      "4b ratio:  0.50094354\n",
      "Signal ratio:  0.009925559\n"
     ]
    },
    {
     "name": "stderr",
     "output_type": "stream",
     "text": [
      "100%|██████████| 6/6 [00:44<00:00,  7.42s/it]\n",
      "  0%|          | 0/6 [00:00<?, ?it/s]"
     ]
    },
    {
     "name": "stdout",
     "output_type": "stream",
     "text": [
      "successfully loaded {'experiment_name': 'fvt_training_n_samples_1', 'seed': 62, 'n_sample_ratio': 0.03125}\n"
     ]
    },
    {
     "name": "stderr",
     "output_type": "stream",
     "text": [
      "Seed set to 62\n",
      " 17%|█▋        | 1/6 [00:06<00:32,  6.43s/it]"
     ]
    },
    {
     "name": "stdout",
     "output_type": "stream",
     "text": [
      "4b ratio:  0.50160486\n",
      "Signal ratio:  0.010287973\n",
      "successfully loaded {'experiment_name': 'fvt_training_n_samples_1', 'seed': 62, 'n_sample_ratio': 0.0625}\n"
     ]
    },
    {
     "name": "stderr",
     "output_type": "stream",
     "text": [
      "Seed set to 62\n",
      " 33%|███▎      | 2/6 [00:12<00:25,  6.32s/it]"
     ]
    },
    {
     "name": "stdout",
     "output_type": "stream",
     "text": [
      "4b ratio:  0.5019593\n",
      "Signal ratio:  0.010197287\n",
      "successfully loaded {'experiment_name': 'fvt_training_n_samples_1', 'seed': 62, 'n_sample_ratio': 0.125}\n"
     ]
    },
    {
     "name": "stderr",
     "output_type": "stream",
     "text": [
      "Seed set to 62\n",
      " 50%|█████     | 3/6 [00:19<00:19,  6.35s/it]"
     ]
    },
    {
     "name": "stdout",
     "output_type": "stream",
     "text": [
      "4b ratio:  0.50116676\n",
      "Signal ratio:  0.010199089\n",
      "successfully loaded {'experiment_name': 'fvt_training_n_samples_1', 'seed': 62, 'n_sample_ratio': 0.25}\n"
     ]
    },
    {
     "name": "stderr",
     "output_type": "stream",
     "text": [
      "Seed set to 62\n",
      " 67%|██████▋   | 4/6 [00:25<00:12,  6.49s/it]"
     ]
    },
    {
     "name": "stdout",
     "output_type": "stream",
     "text": [
      "4b ratio:  0.50177145\n",
      "Signal ratio:  0.009743568\n",
      "successfully loaded {'experiment_name': 'fvt_training_n_samples_1', 'seed': 62, 'n_sample_ratio': 0.5}\n"
     ]
    },
    {
     "name": "stderr",
     "output_type": "stream",
     "text": [
      "Seed set to 62\n"
     ]
    },
    {
     "name": "stdout",
     "output_type": "stream",
     "text": [
      "4b ratio:  0.50244886\n",
      "Signal ratio:  0.010075949\n"
     ]
    },
    {
     "name": "stderr",
     "output_type": "stream",
     "text": [
      " 83%|████████▎ | 5/6 [00:33<00:06,  6.82s/it]"
     ]
    },
    {
     "name": "stdout",
     "output_type": "stream",
     "text": [
      "successfully loaded {'experiment_name': 'fvt_training_n_samples_1', 'seed': 62, 'n_sample_ratio': 1.0}\n"
     ]
    },
    {
     "name": "stderr",
     "output_type": "stream",
     "text": [
      "Seed set to 62\n"
     ]
    },
    {
     "name": "stdout",
     "output_type": "stream",
     "text": [
      "4b ratio:  0.5009891\n",
      "Signal ratio:  0.00990503\n"
     ]
    },
    {
     "name": "stderr",
     "output_type": "stream",
     "text": [
      "100%|██████████| 6/6 [00:41<00:00,  6.96s/it]\n",
      "  0%|          | 0/6 [00:00<?, ?it/s]"
     ]
    },
    {
     "name": "stdout",
     "output_type": "stream",
     "text": [
      "successfully loaded {'experiment_name': 'fvt_training_n_samples_1', 'seed': 72, 'n_sample_ratio': 0.03125}\n"
     ]
    },
    {
     "name": "stderr",
     "output_type": "stream",
     "text": [
      "Seed set to 72\n",
      " 17%|█▋        | 1/6 [00:06<00:32,  6.46s/it]"
     ]
    },
    {
     "name": "stdout",
     "output_type": "stream",
     "text": [
      "4b ratio:  0.5041817\n",
      "Signal ratio:  0.0091002975\n",
      "successfully loaded {'experiment_name': 'fvt_training_n_samples_1', 'seed': 72, 'n_sample_ratio': 0.0625}\n"
     ]
    },
    {
     "name": "stderr",
     "output_type": "stream",
     "text": [
      "Seed set to 72\n",
      " 33%|███▎      | 2/6 [00:12<00:25,  6.37s/it]"
     ]
    },
    {
     "name": "stdout",
     "output_type": "stream",
     "text": [
      "4b ratio:  0.49983224\n",
      "Signal ratio:  0.010070477\n",
      "successfully loaded {'experiment_name': 'fvt_training_n_samples_1', 'seed': 72, 'n_sample_ratio': 0.125}\n"
     ]
    },
    {
     "name": "stderr",
     "output_type": "stream",
     "text": [
      "Seed set to 72\n",
      " 50%|█████     | 3/6 [00:19<00:19,  6.37s/it]"
     ]
    },
    {
     "name": "stdout",
     "output_type": "stream",
     "text": [
      "4b ratio:  0.5006026\n",
      "Signal ratio:  0.009883689\n",
      "successfully loaded {'experiment_name': 'fvt_training_n_samples_1', 'seed': 72, 'n_sample_ratio': 0.25}\n"
     ]
    },
    {
     "name": "stderr",
     "output_type": "stream",
     "text": [
      "Seed set to 72\n",
      " 67%|██████▋   | 4/6 [00:25<00:12,  6.49s/it]"
     ]
    },
    {
     "name": "stdout",
     "output_type": "stream",
     "text": [
      "4b ratio:  0.5007137\n",
      "Signal ratio:  0.009595151\n",
      "successfully loaded {'experiment_name': 'fvt_training_n_samples_1', 'seed': 72, 'n_sample_ratio': 0.5}\n"
     ]
    },
    {
     "name": "stderr",
     "output_type": "stream",
     "text": [
      "Seed set to 72\n"
     ]
    },
    {
     "name": "stdout",
     "output_type": "stream",
     "text": [
      "4b ratio:  0.5010029\n",
      "Signal ratio:  0.009946049\n"
     ]
    },
    {
     "name": "stderr",
     "output_type": "stream",
     "text": [
      " 83%|████████▎ | 5/6 [00:33<00:06,  6.82s/it]"
     ]
    },
    {
     "name": "stdout",
     "output_type": "stream",
     "text": [
      "successfully loaded {'experiment_name': 'fvt_training_n_samples_1', 'seed': 72, 'n_sample_ratio': 1.0}\n"
     ]
    },
    {
     "name": "stderr",
     "output_type": "stream",
     "text": [
      "Seed set to 72\n"
     ]
    },
    {
     "name": "stdout",
     "output_type": "stream",
     "text": [
      "4b ratio:  0.50094503\n",
      "Signal ratio:  0.010034967\n"
     ]
    },
    {
     "name": "stderr",
     "output_type": "stream",
     "text": [
      "100%|██████████| 6/6 [00:41<00:00,  6.91s/it]\n",
      "  0%|          | 0/6 [00:00<?, ?it/s]"
     ]
    },
    {
     "name": "stdout",
     "output_type": "stream",
     "text": [
      "successfully loaded {'experiment_name': 'fvt_training_n_samples_1', 'seed': 82, 'n_sample_ratio': 0.03125}\n"
     ]
    },
    {
     "name": "stderr",
     "output_type": "stream",
     "text": [
      "Seed set to 82\n",
      " 17%|█▋        | 1/6 [00:06<00:30,  6.09s/it]"
     ]
    },
    {
     "name": "stdout",
     "output_type": "stream",
     "text": [
      "4b ratio:  0.50341594\n",
      "Signal ratio:  0.010224051\n",
      "successfully loaded {'experiment_name': 'fvt_training_n_samples_1', 'seed': 82, 'n_sample_ratio': 0.0625}\n"
     ]
    },
    {
     "name": "stderr",
     "output_type": "stream",
     "text": [
      "Seed set to 82\n",
      " 33%|███▎      | 2/6 [00:12<00:24,  6.12s/it]"
     ]
    },
    {
     "name": "stdout",
     "output_type": "stream",
     "text": [
      "4b ratio:  0.5004241\n",
      "Signal ratio:  0.009754896\n",
      "successfully loaded {'experiment_name': 'fvt_training_n_samples_1', 'seed': 82, 'n_sample_ratio': 0.125}\n"
     ]
    },
    {
     "name": "stderr",
     "output_type": "stream",
     "text": [
      "Seed set to 82\n",
      " 50%|█████     | 3/6 [00:18<00:18,  6.20s/it]"
     ]
    },
    {
     "name": "stdout",
     "output_type": "stream",
     "text": [
      "4b ratio:  0.50126415\n",
      "Signal ratio:  0.010307895\n",
      "successfully loaded {'experiment_name': 'fvt_training_n_samples_1', 'seed': 82, 'n_sample_ratio': 0.25}\n"
     ]
    },
    {
     "name": "stderr",
     "output_type": "stream",
     "text": [
      "Seed set to 82\n",
      " 67%|██████▋   | 4/6 [00:25<00:12,  6.35s/it]"
     ]
    },
    {
     "name": "stdout",
     "output_type": "stream",
     "text": [
      "4b ratio:  0.50052017\n",
      "Signal ratio:  0.010292847\n",
      "successfully loaded {'experiment_name': 'fvt_training_n_samples_1', 'seed': 82, 'n_sample_ratio': 0.5}\n"
     ]
    },
    {
     "name": "stderr",
     "output_type": "stream",
     "text": [
      "Seed set to 82\n"
     ]
    },
    {
     "name": "stdout",
     "output_type": "stream",
     "text": [
      "4b ratio:  0.5006362\n",
      "Signal ratio:  0.010028345\n"
     ]
    },
    {
     "name": "stderr",
     "output_type": "stream",
     "text": [
      " 83%|████████▎ | 5/6 [00:32<00:06,  6.67s/it]"
     ]
    },
    {
     "name": "stdout",
     "output_type": "stream",
     "text": [
      "successfully loaded {'experiment_name': 'fvt_training_n_samples_1', 'seed': 82, 'n_sample_ratio': 1.0}\n"
     ]
    },
    {
     "name": "stderr",
     "output_type": "stream",
     "text": [
      "Seed set to 82\n"
     ]
    },
    {
     "name": "stdout",
     "output_type": "stream",
     "text": [
      "4b ratio:  0.50109845\n",
      "Signal ratio:  0.009912691\n"
     ]
    },
    {
     "name": "stderr",
     "output_type": "stream",
     "text": [
      "100%|██████████| 6/6 [00:40<00:00,  6.76s/it]\n",
      "  0%|          | 0/6 [00:00<?, ?it/s]"
     ]
    },
    {
     "name": "stdout",
     "output_type": "stream",
     "text": [
      "successfully loaded {'experiment_name': 'fvt_training_n_samples_1', 'seed': 92, 'n_sample_ratio': 0.03125}\n"
     ]
    },
    {
     "name": "stderr",
     "output_type": "stream",
     "text": [
      "Seed set to 92\n",
      " 17%|█▋        | 1/6 [00:06<00:30,  6.13s/it]"
     ]
    },
    {
     "name": "stdout",
     "output_type": "stream",
     "text": [
      "4b ratio:  0.5015729\n",
      "Signal ratio:  0.009426962\n",
      "successfully loaded {'experiment_name': 'fvt_training_n_samples_1', 'seed': 92, 'n_sample_ratio': 0.0625}\n"
     ]
    },
    {
     "name": "stderr",
     "output_type": "stream",
     "text": [
      "Seed set to 92\n",
      " 33%|███▎      | 2/6 [00:11<00:23,  5.95s/it]"
     ]
    },
    {
     "name": "stdout",
     "output_type": "stream",
     "text": [
      "4b ratio:  0.5017192\n",
      "Signal ratio:  0.010063617\n",
      "successfully loaded {'experiment_name': 'fvt_training_n_samples_1', 'seed': 92, 'n_sample_ratio': 0.125}\n"
     ]
    },
    {
     "name": "stderr",
     "output_type": "stream",
     "text": [
      "Seed set to 92\n",
      " 50%|█████     | 3/6 [00:17<00:17,  5.96s/it]"
     ]
    },
    {
     "name": "stdout",
     "output_type": "stream",
     "text": [
      "4b ratio:  0.50202906\n",
      "Signal ratio:  0.010101881\n",
      "successfully loaded {'experiment_name': 'fvt_training_n_samples_1', 'seed': 92, 'n_sample_ratio': 0.25}\n"
     ]
    },
    {
     "name": "stderr",
     "output_type": "stream",
     "text": [
      "Seed set to 92\n",
      " 67%|██████▋   | 4/6 [00:24<00:12,  6.12s/it]"
     ]
    },
    {
     "name": "stdout",
     "output_type": "stream",
     "text": [
      "4b ratio:  0.5011712\n",
      "Signal ratio:  0.0099167265\n",
      "successfully loaded {'experiment_name': 'fvt_training_n_samples_1', 'seed': 92, 'n_sample_ratio': 0.5}\n"
     ]
    },
    {
     "name": "stderr",
     "output_type": "stream",
     "text": [
      "Seed set to 92\n"
     ]
    },
    {
     "name": "stdout",
     "output_type": "stream",
     "text": [
      "4b ratio:  0.50114745\n",
      "Signal ratio:  0.009974096\n"
     ]
    },
    {
     "name": "stderr",
     "output_type": "stream",
     "text": [
      " 83%|████████▎ | 5/6 [00:31<00:06,  6.42s/it]"
     ]
    },
    {
     "name": "stdout",
     "output_type": "stream",
     "text": [
      "successfully loaded {'experiment_name': 'fvt_training_n_samples_1', 'seed': 92, 'n_sample_ratio': 1.0}\n"
     ]
    },
    {
     "name": "stderr",
     "output_type": "stream",
     "text": [
      "Seed set to 92\n"
     ]
    },
    {
     "name": "stdout",
     "output_type": "stream",
     "text": [
      "4b ratio:  0.5010859\n",
      "Signal ratio:  0.009911856\n"
     ]
    },
    {
     "name": "stderr",
     "output_type": "stream",
     "text": [
      "100%|██████████| 6/6 [00:39<00:00,  6.52s/it]\n"
     ]
    }
   ],
   "source": [
    "import tqdm\n",
    "import pytorch_lightning as pl\n",
    "import numpy as np\n",
    "\n",
    "from events_data import EventsData\n",
    "from training_info import TrainingInfo\n",
    "from dataset import generate_tt_dataset\n",
    "\n",
    "features = [\n",
    "    \"sym_Jet0_pt\",\n",
    "    \"sym_Jet1_pt\",\n",
    "    \"sym_Jet2_pt\",\n",
    "    \"sym_Jet3_pt\",\n",
    "    \"sym_Jet0_eta\",\n",
    "    \"sym_Jet1_eta\",\n",
    "    \"sym_Jet2_eta\",\n",
    "    \"sym_Jet3_eta\",\n",
    "    \"sym_Jet0_phi\",\n",
    "    \"sym_Jet1_phi\",\n",
    "    \"sym_Jet2_phi\",\n",
    "    \"sym_Jet3_phi\",\n",
    "    \"sym_Jet0_m\",\n",
    "    \"sym_Jet1_m\",\n",
    "    \"sym_Jet2_m\",\n",
    "    \"sym_Jet3_m\",\n",
    "]\n",
    "\n",
    "seeds = [42, 52, 62, 72, 82, 92]\n",
    "n_sample_ratios = [0.03125,\n",
    "0.0625,\n",
    "0.125,\n",
    "0.25,\n",
    "0.5,\n",
    "1.0,\n",
    "]\n",
    "experiment_name = \"fvt_training_n_samples_1\"\n",
    "\n",
    "for seed in seeds:\n",
    "    for n_sample_ratio in tqdm.tqdm(n_sample_ratios):\n",
    "        hparam_filter = {\"experiment_name\": experiment_name, \n",
    "                         \"seed\": seed, \n",
    "                         \"n_sample_ratio\": n_sample_ratio}\n",
    "        hashes = TrainingInfo.find(hparam_filter)\n",
    "        assert len(hashes) == 1\n",
    "        print(\"successfully loaded\", hparam_filter)\n",
    "        tinfo = TrainingInfo.load(hashes[0])\n",
    "        \n",
    "        dinfo_train_all, _ = generate_tt_dataset(\n",
    "                seed,\n",
    "                tinfo.hparams[\"n_3b\"],\n",
    "                tinfo.hparams[\"n_all4b\"],\n",
    "                tinfo.hparams[\"signal_ratio\"],\n",
    "                tinfo.hparams[\"test_ratio\"],\n",
    "            )\n",
    "\n",
    "        pl.seed_everything(seed)\n",
    "        np.random.seed(seed)\n",
    "\n",
    "        n_train_val = int(n_sample_ratio * len(dinfo_train_all))\n",
    "        train_val_idx = np.random.choice(\n",
    "            len(dinfo_train_all),\n",
    "            n_train_val,\n",
    "            replace=False,\n",
    "        )\n",
    "        val_ratio = tinfo.hparams[\"val_ratio\"]\n",
    "        n_val = int(val_ratio * n_train_val)\n",
    "\n",
    "        dinfo_train = dinfo_train_all[train_val_idx[n_val:]]\n",
    "        dinfo_val = dinfo_train_all[train_val_idx[:n_val]]\n",
    "\n",
    "        events_train = EventsData.from_dataframe(\n",
    "            dinfo_train.fetch_data(),\n",
    "            features,\n",
    "            name=\"fvt_train\",\n",
    "        )\n",
    "        events_val = EventsData.from_dataframe(\n",
    "            dinfo_val.fetch_data(),\n",
    "            features,\n",
    "            name=\"fvt_val\",\n",
    "        )\n",
    "\n",
    "        # reduce number of 4b samples to 1/8\n",
    "        print(\n",
    "            \"4b ratio: \",\n",
    "            events_train.total_weight_4b / events_train.total_weight,\n",
    "        )\n",
    "        print(\n",
    "            \"Signal ratio: \",\n",
    "            events_train.total_weight_signal / events_train.total_weight_4b,\n",
    "        )\n",
    "\n",
    "        batch_size = tinfo.hparams[\"batch_size\"]\n",
    "        events_train.fit_batch_size(batch_size)\n",
    "        events_val.fit_batch_size(batch_size)\n",
    "\n",
    "        ###########################################################################################\n",
    "        ###########################################################################################\n",
    "        tinfo.dinfo_train = dinfo_train\n",
    "        tinfo.dinfo_val = dinfo_val\n",
    "        tinfo.save()"
   ]
  },
  {
   "cell_type": "code",
   "execution_count": null,
   "metadata": {},
   "outputs": [],
   "source": []
  },
  {
   "cell_type": "code",
   "execution_count": null,
   "metadata": {},
   "outputs": [],
   "source": []
  },
  {
   "cell_type": "code",
   "execution_count": null,
   "metadata": {},
   "outputs": [],
   "source": []
  },
  {
   "cell_type": "code",
   "execution_count": null,
   "metadata": {},
   "outputs": [],
   "source": []
  },
  {
   "cell_type": "code",
   "execution_count": null,
   "metadata": {},
   "outputs": [],
   "source": []
  },
  {
   "cell_type": "code",
   "execution_count": null,
   "metadata": {},
   "outputs": [],
   "source": []
  },
  {
   "cell_type": "code",
   "execution_count": 1,
   "metadata": {
    "metadata": {}
   },
   "outputs": [],
   "source": [
    "%load_ext autoreload\n",
    "%autoreload 2\n",
    "%matplotlib inline"
   ]
  },
  {
   "cell_type": "code",
   "execution_count": 2,
   "metadata": {},
   "outputs": [],
   "source": [
    "\n",
    "\n",
    "import numpy as np\n",
    "import matplotlib.pyplot as plt\n",
    "import pandas as pd"
   ]
  },
  {
   "cell_type": "code",
   "execution_count": 3,
   "metadata": {},
   "outputs": [],
   "source": [
    "dinfo_train, dinfo_test = generate_tt_dataset(\n",
    "    seed=42, n_3b=200_0000, n_all4b=200_0000, signal_ratio=0.015, test_ratio=0.2\n",
    ")\n",
    "\n",
    "dinfo_train_2, dinfo_test_2 = generate_tt_dataset(\n",
    "    seed=42, n_3b=200_0000, n_all4b=200_0000, signal_ratio=0.015, test_ratio=0.2\n",
    ")"
   ]
  },
  {
   "cell_type": "code",
   "execution_count": 4,
   "metadata": {},
   "outputs": [],
   "source": [
    "df_train = dinfo_train.fetch_data()\n",
    "df_train_2 = dinfo_train_2.fetch_data()\n",
    "df_test = dinfo_test.fetch_data()\n",
    "df_test_2 = dinfo_test_2.fetch_data()"
   ]
  },
  {
   "cell_type": "code",
   "execution_count": 5,
   "metadata": {},
   "outputs": [],
   "source": [
    "assert df_train.equals(df_train_2)\n",
    "assert df_test.equals(df_test_2)"
   ]
  },
  {
   "cell_type": "code",
   "execution_count": 6,
   "metadata": {},
   "outputs": [
    {
     "data": {
      "text/html": [
       "<div>\n",
       "<style scoped>\n",
       "    .dataframe tbody tr th:only-of-type {\n",
       "        vertical-align: middle;\n",
       "    }\n",
       "\n",
       "    .dataframe tbody tr th {\n",
       "        vertical-align: top;\n",
       "    }\n",
       "\n",
       "    .dataframe thead th {\n",
       "        text-align: right;\n",
       "    }\n",
       "</style>\n",
       "<table border=\"1\" class=\"dataframe\">\n",
       "  <thead>\n",
       "    <tr style=\"text-align: right;\">\n",
       "      <th></th>\n",
       "      <th>Jet0_pt</th>\n",
       "      <th>Jet1_pt</th>\n",
       "      <th>Jet2_pt</th>\n",
       "      <th>Jet3_pt</th>\n",
       "      <th>Jet0_eta</th>\n",
       "      <th>Jet1_eta</th>\n",
       "      <th>Jet2_eta</th>\n",
       "      <th>Jet3_eta</th>\n",
       "      <th>Jet0_phi</th>\n",
       "      <th>Jet1_phi</th>\n",
       "      <th>...</th>\n",
       "      <th>sym_Jet0_phi</th>\n",
       "      <th>sym_Jet0_pt</th>\n",
       "      <th>sym_Jet0_m</th>\n",
       "      <th>sym_Jet1_pt</th>\n",
       "      <th>sym_Jet1_m</th>\n",
       "      <th>sym_Jet2_pt</th>\n",
       "      <th>sym_Jet2_m</th>\n",
       "      <th>sym_Jet3_pt</th>\n",
       "      <th>sym_Jet3_m</th>\n",
       "      <th>signal</th>\n",
       "    </tr>\n",
       "  </thead>\n",
       "  <tbody>\n",
       "    <tr>\n",
       "      <th>0</th>\n",
       "      <td>102.627190</td>\n",
       "      <td>88.484100</td>\n",
       "      <td>73.482193</td>\n",
       "      <td>64.660904</td>\n",
       "      <td>0.276450</td>\n",
       "      <td>1.218454</td>\n",
       "      <td>0.829643</td>\n",
       "      <td>-1.543073</td>\n",
       "      <td>3.055435</td>\n",
       "      <td>-2.709024</td>\n",
       "      <td>...</td>\n",
       "      <td>0</td>\n",
       "      <td>102.627190</td>\n",
       "      <td>0.0</td>\n",
       "      <td>88.484100</td>\n",
       "      <td>0.0</td>\n",
       "      <td>73.482193</td>\n",
       "      <td>0.0</td>\n",
       "      <td>64.660904</td>\n",
       "      <td>0.0</td>\n",
       "      <td>False</td>\n",
       "    </tr>\n",
       "    <tr>\n",
       "      <th>1</th>\n",
       "      <td>107.726097</td>\n",
       "      <td>69.418266</td>\n",
       "      <td>63.368328</td>\n",
       "      <td>51.620911</td>\n",
       "      <td>1.790683</td>\n",
       "      <td>-0.429038</td>\n",
       "      <td>-0.529767</td>\n",
       "      <td>0.779059</td>\n",
       "      <td>2.325519</td>\n",
       "      <td>2.058803</td>\n",
       "      <td>...</td>\n",
       "      <td>0</td>\n",
       "      <td>107.726097</td>\n",
       "      <td>0.0</td>\n",
       "      <td>69.418266</td>\n",
       "      <td>0.0</td>\n",
       "      <td>63.368328</td>\n",
       "      <td>0.0</td>\n",
       "      <td>51.620911</td>\n",
       "      <td>0.0</td>\n",
       "      <td>False</td>\n",
       "    </tr>\n",
       "    <tr>\n",
       "      <th>2</th>\n",
       "      <td>181.930542</td>\n",
       "      <td>111.711487</td>\n",
       "      <td>51.089893</td>\n",
       "      <td>43.021870</td>\n",
       "      <td>-1.466572</td>\n",
       "      <td>-1.906868</td>\n",
       "      <td>-0.384857</td>\n",
       "      <td>-2.477571</td>\n",
       "      <td>-1.044509</td>\n",
       "      <td>2.489904</td>\n",
       "      <td>...</td>\n",
       "      <td>0</td>\n",
       "      <td>181.930542</td>\n",
       "      <td>0.0</td>\n",
       "      <td>111.711487</td>\n",
       "      <td>0.0</td>\n",
       "      <td>51.089893</td>\n",
       "      <td>0.0</td>\n",
       "      <td>43.021870</td>\n",
       "      <td>0.0</td>\n",
       "      <td>False</td>\n",
       "    </tr>\n",
       "    <tr>\n",
       "      <th>3</th>\n",
       "      <td>74.663414</td>\n",
       "      <td>64.822693</td>\n",
       "      <td>59.594830</td>\n",
       "      <td>54.634785</td>\n",
       "      <td>-0.640479</td>\n",
       "      <td>0.188939</td>\n",
       "      <td>1.059412</td>\n",
       "      <td>2.089017</td>\n",
       "      <td>2.890759</td>\n",
       "      <td>-1.264300</td>\n",
       "      <td>...</td>\n",
       "      <td>0</td>\n",
       "      <td>74.663414</td>\n",
       "      <td>0.0</td>\n",
       "      <td>64.822693</td>\n",
       "      <td>0.0</td>\n",
       "      <td>59.594830</td>\n",
       "      <td>0.0</td>\n",
       "      <td>54.634785</td>\n",
       "      <td>0.0</td>\n",
       "      <td>False</td>\n",
       "    </tr>\n",
       "    <tr>\n",
       "      <th>4</th>\n",
       "      <td>70.948875</td>\n",
       "      <td>68.576927</td>\n",
       "      <td>63.459507</td>\n",
       "      <td>45.534973</td>\n",
       "      <td>1.085591</td>\n",
       "      <td>-0.288453</td>\n",
       "      <td>-1.485473</td>\n",
       "      <td>0.631771</td>\n",
       "      <td>0.700424</td>\n",
       "      <td>-2.665915</td>\n",
       "      <td>...</td>\n",
       "      <td>0</td>\n",
       "      <td>70.948875</td>\n",
       "      <td>0.0</td>\n",
       "      <td>68.576927</td>\n",
       "      <td>0.0</td>\n",
       "      <td>63.459507</td>\n",
       "      <td>0.0</td>\n",
       "      <td>45.534973</td>\n",
       "      <td>0.0</td>\n",
       "      <td>False</td>\n",
       "    </tr>\n",
       "  </tbody>\n",
       "</table>\n",
       "<p>5 rows × 61 columns</p>\n",
       "</div>"
      ],
      "text/plain": [
       "      Jet0_pt     Jet1_pt    Jet2_pt    Jet3_pt  Jet0_eta  Jet1_eta  Jet2_eta  \\\n",
       "0  102.627190   88.484100  73.482193  64.660904  0.276450  1.218454  0.829643   \n",
       "1  107.726097   69.418266  63.368328  51.620911  1.790683 -0.429038 -0.529767   \n",
       "2  181.930542  111.711487  51.089893  43.021870 -1.466572 -1.906868 -0.384857   \n",
       "3   74.663414   64.822693  59.594830  54.634785 -0.640479  0.188939  1.059412   \n",
       "4   70.948875   68.576927  63.459507  45.534973  1.085591 -0.288453 -1.485473   \n",
       "\n",
       "   Jet3_eta  Jet0_phi  Jet1_phi  ...  sym_Jet0_phi  sym_Jet0_pt  sym_Jet0_m  \\\n",
       "0 -1.543073  3.055435 -2.709024  ...             0   102.627190         0.0   \n",
       "1  0.779059  2.325519  2.058803  ...             0   107.726097         0.0   \n",
       "2 -2.477571 -1.044509  2.489904  ...             0   181.930542         0.0   \n",
       "3  2.089017  2.890759 -1.264300  ...             0    74.663414         0.0   \n",
       "4  0.631771  0.700424 -2.665915  ...             0    70.948875         0.0   \n",
       "\n",
       "   sym_Jet1_pt  sym_Jet1_m  sym_Jet2_pt  sym_Jet2_m  sym_Jet3_pt  sym_Jet3_m  \\\n",
       "0    88.484100         0.0    73.482193         0.0    64.660904         0.0   \n",
       "1    69.418266         0.0    63.368328         0.0    51.620911         0.0   \n",
       "2   111.711487         0.0    51.089893         0.0    43.021870         0.0   \n",
       "3    64.822693         0.0    59.594830         0.0    54.634785         0.0   \n",
       "4    68.576927         0.0    63.459507         0.0    45.534973         0.0   \n",
       "\n",
       "   signal  \n",
       "0   False  \n",
       "1   False  \n",
       "2   False  \n",
       "3   False  \n",
       "4   False  \n",
       "\n",
       "[5 rows x 61 columns]"
      ]
     },
     "execution_count": 6,
     "metadata": {},
     "output_type": "execute_result"
    }
   ],
   "source": [
    "df_train.head()\n",
    "df_test.head()"
   ]
  },
  {
   "cell_type": "code",
   "execution_count": 19,
   "metadata": {},
   "outputs": [
    {
     "name": "stderr",
     "output_type": "stream",
     "text": [
      "Seed set to 42\n"
     ]
    },
    {
     "name": "stdout",
     "output_type": "stream",
     "text": [
      "['NbrnTP3fAbnF', 'bmOHnKYaXRvj']\n",
      "Test Data\n"
     ]
    }
   ],
   "source": []
  }
 ],
 "metadata": {
  "kernelspec": {
   "display_name": "Python 3 (ipykernel)",
   "language": "python",
   "name": "python3"
  },
  "language_info": {
   "codemirror_mode": {
    "name": "ipython",
    "version": 3
   },
   "file_extension": ".py",
   "mimetype": "text/x-python",
   "name": "python",
   "nbconvert_exporter": "python",
   "pygments_lexer": "ipython3",
   "version": "3.11.9"
  }
 },
 "nbformat": 4,
 "nbformat_minor": 2
}
