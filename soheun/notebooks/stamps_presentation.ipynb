{
 "cells": [
  {
   "cell_type": "code",
   "execution_count": 2,
   "metadata": {},
   "outputs": [],
   "source": [
    "%load_ext autoreload\n",
    "%autoreload 2\n",
    "%matplotlib inline\n",
    "\n",
    "import os\n",
    "current_pwd = os.getcwd()\n",
    "\n",
    "possible_paths = [\n",
    "    '/home/export/soheuny/SRFinder/soheun/notebooks', \n",
    "    '/home/soheuny/HH4bsim/soheun/notebooks'\n",
    "]\n",
    "    \n",
    "assert os.getcwd() in possible_paths, f\"Did you change the path? It should be one of {possible_paths}\"\n",
    "os.chdir(\"..\")\n",
    "\n",
    "import numpy as np\n",
    "import matplotlib.pyplot as plt\n",
    "from matplotlib.gridspec import GridSpec\n",
    "import torch\n",
    "\n",
    "from plots import hist_events_by_labels\n",
    "from events_data import events_from_scdinfo\n",
    "\n",
    "\n",
    "from fvt_classifier import FvTClassifier\n",
    "\n",
    "\n",
    "features = [\n",
    "    \"sym_Jet0_pt\", \"sym_Jet1_pt\", \"sym_Jet2_pt\", \"sym_Jet3_pt\",\n",
    "    \"sym_Jet0_eta\", \"sym_Jet1_eta\", \"sym_Jet2_eta\", \"sym_Jet3_eta\",\n",
    "    \"sym_Jet0_phi\", \"sym_Jet1_phi\", \"sym_Jet2_phi\", \"sym_Jet3_phi\",  \n",
    "    \"sym_Jet0_m\", \"sym_Jet1_m\", \"sym_Jet2_m\", \"sym_Jet3_m\",\n",
    "]"
   ]
  },
  {
   "cell_type": "code",
   "execution_count": 5,
   "metadata": {},
   "outputs": [
    {
     "name": "stderr",
     "output_type": "stream",
     "text": [
      "[rank: 0] Seed set to 0\n",
      "[rank: 0] Seed set to 0\n",
      "/home/export/soheuny/.conda/envs/coffea_torch/lib/python3.11/site-packages/lightning_fabric/plugins/environments/slurm.py:204: The `srun` command is available on your system but is not used. HINT: If your intention is to run Lightning on SLURM, prepend your python command with `srun` like so: srun python /home/export/soheuny/.conda/envs/coffea_torch/lib/py ...\n",
      "[n01:1259155] shmem: mmap: an error occurred while determining whether or not /tmp/ompi.n01.3393/jf.0/1907621888/shared_mem_cuda_pool.n01 could be created.\n",
      "[n01:1259155] create_and_attach: unable to create shared memory BTL coordinating structure :: size 134217728 \n",
      "GPU available: True (cuda), used: True\n",
      "TPU available: False, using: 0 TPU cores\n",
      "IPU available: False, using: 0 IPUs\n",
      "HPU available: False, using: 0 HPUs\n",
      "/home/export/soheuny/.conda/envs/coffea_torch/lib/python3.11/site-packages/lightning_fabric/plugins/environments/slurm.py:204: The `srun` command is available on your system but is not used. HINT: If your intention is to run Lightning on SLURM, prepend your python command with `srun` like so: srun python /home/export/soheuny/.conda/envs/coffea_torch/lib/py ...\n",
      "LOCAL_RANK: 0 - CUDA_VISIBLE_DEVICES: [0]\n",
      "\n",
      "  | Name     | Type       | Params\n",
      "----------------------------------------\n",
      "0 | encoder  | FvTEncoder | 920   \n",
      "1 | select_q | conv1d     | 8     \n",
      "2 | out      | conv1d     | 16    \n",
      "----------------------------------------\n",
      "895       Trainable params\n",
      "49        Non-trainable params\n",
      "944       Total params\n",
      "0.004     Total estimated model params size (MB)\n"
     ]
    },
    {
     "name": "stdout",
     "output_type": "stream",
     "text": [
      "                                                                           \r"
     ]
    },
    {
     "name": "stderr",
     "output_type": "stream",
     "text": [
      "/home/export/soheuny/.conda/envs/coffea_torch/lib/python3.11/site-packages/pytorch_lightning/loops/fit_loop.py:298: The number of training batches (32) is smaller than the logging interval Trainer(log_every_n_steps=50). Set a lower value for log_every_n_steps if you want to see logs for the training epoch.\n"
     ]
    },
    {
     "name": "stdout",
     "output_type": "stream",
     "text": [
      "Epoch 29: 100%|██████████| 32/32 [00:04<00:00,  6.43it/s, v_num=0, val_loss=0.661, train_loss=0.661]"
     ]
    },
    {
     "name": "stderr",
     "output_type": "stream",
     "text": [
      "`Trainer.fit` stopped: `max_epochs=30` reached.\n"
     ]
    },
    {
     "name": "stdout",
     "output_type": "stream",
     "text": [
      "Epoch 29: 100%|██████████| 32/32 [00:05<00:00,  6.20it/s, v_num=0, val_loss=0.661, train_loss=0.661]\n"
     ]
    },
    {
     "name": "stderr",
     "output_type": "stream",
     "text": [
      "[rank: 0] Seed set to 0\n",
      "[rank: 0] Seed set to 0\n",
      "/home/export/soheuny/.conda/envs/coffea_torch/lib/python3.11/site-packages/lightning_fabric/plugins/environments/slurm.py:204: The `srun` command is available on your system but is not used. HINT: If your intention is to run Lightning on SLURM, prepend your python command with `srun` like so: srun python /home/export/soheuny/.conda/envs/coffea_torch/lib/py ...\n",
      "GPU available: True (cuda), used: True\n",
      "TPU available: False, using: 0 TPU cores\n",
      "IPU available: False, using: 0 IPUs\n",
      "HPU available: False, using: 0 HPUs\n",
      "LOCAL_RANK: 0 - CUDA_VISIBLE_DEVICES: [0]\n",
      "\n",
      "  | Name     | Type       | Params\n",
      "----------------------------------------\n",
      "0 | encoder  | FvTEncoder | 920   \n",
      "1 | select_q | conv1d     | 8     \n",
      "2 | out      | conv1d     | 16    \n",
      "----------------------------------------\n",
      "895       Trainable params\n",
      "49        Non-trainable params\n",
      "944       Total params\n",
      "0.004     Total estimated model params size (MB)\n"
     ]
    },
    {
     "name": "stdout",
     "output_type": "stream",
     "text": [
      "Epoch 29: 100%|██████████| 65/65 [00:07<00:00,  8.82it/s, v_num=0, val_loss=0.657, train_loss=0.661]"
     ]
    },
    {
     "name": "stderr",
     "output_type": "stream",
     "text": [
      "`Trainer.fit` stopped: `max_epochs=30` reached.\n"
     ]
    },
    {
     "name": "stdout",
     "output_type": "stream",
     "text": [
      "Epoch 29: 100%|██████████| 65/65 [00:07<00:00,  8.45it/s, v_num=0, val_loss=0.657, train_loss=0.661]\n"
     ]
    },
    {
     "name": "stderr",
     "output_type": "stream",
     "text": [
      "[rank: 0] Seed set to 0\n",
      "[rank: 0] Seed set to 0\n",
      "/home/export/soheuny/.conda/envs/coffea_torch/lib/python3.11/site-packages/lightning_fabric/plugins/environments/slurm.py:204: The `srun` command is available on your system but is not used. HINT: If your intention is to run Lightning on SLURM, prepend your python command with `srun` like so: srun python /home/export/soheuny/.conda/envs/coffea_torch/lib/py ...\n",
      "GPU available: True (cuda), used: True\n",
      "TPU available: False, using: 0 TPU cores\n",
      "IPU available: False, using: 0 IPUs\n",
      "HPU available: False, using: 0 HPUs\n",
      "LOCAL_RANK: 0 - CUDA_VISIBLE_DEVICES: [0]\n",
      "\n",
      "  | Name     | Type       | Params\n",
      "----------------------------------------\n",
      "0 | encoder  | FvTEncoder | 920   \n",
      "1 | select_q | conv1d     | 8     \n",
      "2 | out      | conv1d     | 16    \n",
      "----------------------------------------\n",
      "895       Trainable params\n",
      "49        Non-trainable params\n",
      "944       Total params\n",
      "0.004     Total estimated model params size (MB)\n"
     ]
    },
    {
     "name": "stdout",
     "output_type": "stream",
     "text": [
      "Epoch 29: 100%|██████████| 130/130 [00:11<00:00, 10.86it/s, v_num=0, val_loss=0.655, train_loss=0.658]"
     ]
    },
    {
     "name": "stderr",
     "output_type": "stream",
     "text": [
      "`Trainer.fit` stopped: `max_epochs=30` reached.\n"
     ]
    },
    {
     "name": "stdout",
     "output_type": "stream",
     "text": [
      "Epoch 29: 100%|██████████| 130/130 [00:12<00:00, 10.58it/s, v_num=0, val_loss=0.655, train_loss=0.658]\n"
     ]
    }
   ],
   "source": [
    "from itertools import product\n",
    "from dataset import generate_mother_dataset, split_scdinfo\n",
    "from fvt_classifier import FvTClassifier\n",
    "from training_info import TrainingInfoV2\n",
    "\n",
    "import torch\n",
    "import numpy as np\n",
    "import pytorch_lightning as pl\n",
    "\n",
    "device = torch.device(\"cuda\")\n",
    "\n",
    "dim_input_jet_features = 4\n",
    "num_classes = 2\n",
    "\n",
    "ratio_4b = 0.5\n",
    "seed = 0\n",
    "signal_filename = \"HH4b_picoAOD.h5\"\n",
    "\n",
    "fvt_results = []\n",
    "\n",
    "# Case 1: Signal ratio fixed to 0.05\n",
    "\n",
    "scdinfo_all, df_all = generate_mother_dataset(\n",
    "    n_3b=200000,\n",
    "    ratio_4b=ratio_4b,\n",
    "    signal_ratio=0.05,\n",
    "    signal_filename=signal_filename,\n",
    "    seed=seed,\n",
    ")\n",
    "\n",
    "scdinfo_base_train, scdinfo_test = split_scdinfo(\n",
    "    scdinfo_all, 0.5, seed\n",
    ")\n",
    "\n",
    "for n_train in [50000, 100000, 200000]:\n",
    "    idx = np.random.permutation(len(scdinfo_base_train))[:n_train]\n",
    "    scdinfo_base_train_sub = scdinfo_base_train[idx]\n",
    "\n",
    "    base_fvt_hparams = {\n",
    "        \"dim_dijet_features\": 6,\n",
    "        \"dim_quadjet_features\": 6,\n",
    "        \"lr\": 0.001,\n",
    "        \"batch_size\": 1024,\n",
    "        \"max_epochs\": 30,\n",
    "        \"train_seed\": seed,\n",
    "        \"fit_batch_size\": True, \n",
    "        \"data_seed\": seed,\n",
    "        \"val_ratio\": 0.33\n",
    "    }\n",
    "\n",
    "    pl.seed_everything(seed)\n",
    "    np.random.seed(seed)\n",
    "\n",
    "    base_fvt_tinfo = TrainingInfoV2(base_fvt_hparams, scdinfo_base_train_sub)\n",
    "    \n",
    "    base_fvt_train_dset, base_fvt_val_dset = (\n",
    "        base_fvt_tinfo.fetch_train_val_tensor_datasets(\n",
    "            features, \"fourTag\", \"weight\")\n",
    "    )\n",
    "\n",
    "    base_fvt_model = FvTClassifier(\n",
    "        num_classes,\n",
    "        dim_input_jet_features,\n",
    "        base_fvt_hparams[\"dim_dijet_features\"],\n",
    "        base_fvt_hparams[\"dim_quadjet_features\"],\n",
    "        run_name=base_fvt_tinfo.hash,\n",
    "        device=torch.device(\"cuda:0\"),\n",
    "        lr=base_fvt_hparams[\"lr\"],\n",
    "    )\n",
    "\n",
    "    base_fvt_model.fit(\n",
    "        base_fvt_train_dset,\n",
    "        base_fvt_val_dset,\n",
    "        batch_size=base_fvt_hparams[\"batch_size\"],\n",
    "        max_epochs=base_fvt_hparams[\"max_epochs\"],\n",
    "        train_seed=base_fvt_hparams[\"train_seed\"],\n",
    "        save_checkpoint=False\n",
    "    )\n",
    "    base_fvt_model.eval()\n",
    "    base_fvt_model.to(device)\n",
    "\n",
    "    events_test = events_from_scdinfo(scdinfo_test, features, signal_filename)\n",
    "    probs_est = base_fvt_model.predict(events_test.X_torch)[:, 1].cpu().numpy()\n",
    "    \n",
    "    fvt_results.append({\n",
    "        \"n_train\": n_train,\n",
    "        \"probs_est\": probs_est\n",
    "    })"
   ]
  },
  {
   "cell_type": "code",
   "execution_count": 14,
   "metadata": {},
   "outputs": [
    {
     "data": {
      "image/png": "[encoded data removed]",
      "text/plain": [
       "<Figure size 1500x500 with 3 Axes>"
      ]
     },
     "metadata": {},
     "output_type": "display_data"
    }
   ],
   "source": [
    "# density plot\n",
    "\n",
    "# use latex\n",
    "plt.rcParams[\"text.usetex\"] = True\n",
    "plt.rcParams[\"font.family\"] = \"serif\"\n",
    "plt.rcParams[\"font.serif\"] = \"Times New Roman\"\n",
    "plt.rcParams[\"font.size\"] = 15\n",
    "\n",
    "scdinfo_all, df_all = generate_mother_dataset(\n",
    "    n_3b=200000,\n",
    "    ratio_4b=ratio_4b,\n",
    "    signal_ratio=0.05,\n",
    "    signal_filename=signal_filename,\n",
    "    seed=seed,\n",
    ")\n",
    "\n",
    "scdinfo_base_train, scdinfo_test = split_scdinfo(\n",
    "    scdinfo_all, 0.5, seed\n",
    ")\n",
    "\n",
    "events_test = events_from_scdinfo(scdinfo_test, features, signal_filename)\n",
    "\n",
    "bins = np.linspace(0, 1, 30)\n",
    "fig, ax = plt.subplots(nrows=1, ncols=3, figsize=(15, 5))\n",
    "fig.supxlabel(\"Classifier output\")\n",
    "ax[0].set_ylabel(\"Counts\")\n",
    "for i, res in enumerate(fvt_results):\n",
    "    ax[i].set_title(f\"Sample size: {res['n_train']}\")\n",
    "    hist_events_by_labels(events_test, res[\"probs_est\"], bins=bins, ax=ax[i])\n",
    "    ax[i].legend()\n",
    "plt.savefig(\"fixed_signal_ratio.pdf\", dpi=300)\n",
    "plt.show()\n",
    "plt.close()"
   ]
  },
  {
   "cell_type": "code",
   "execution_count": 7,
   "metadata": {},
   "outputs": [
    {
     "name": "stderr",
     "output_type": "stream",
     "text": [
      "[rank: 0] Seed set to 0\n",
      "[rank: 0] Seed set to 0\n",
      "/home/export/soheuny/.conda/envs/coffea_torch/lib/python3.11/site-packages/lightning_fabric/plugins/environments/slurm.py:204: The `srun` command is available on your system but is not used. HINT: If your intention is to run Lightning on SLURM, prepend your python command with `srun` like so: srun python /home/export/soheuny/.conda/envs/coffea_torch/lib/py ...\n",
      "GPU available: True (cuda), used: True\n",
      "TPU available: False, using: 0 TPU cores\n",
      "IPU available: False, using: 0 IPUs\n",
      "HPU available: False, using: 0 HPUs\n",
      "LOCAL_RANK: 0 - CUDA_VISIBLE_DEVICES: [0]\n",
      "\n",
      "  | Name     | Type       | Params\n",
      "----------------------------------------\n",
      "0 | encoder  | FvTEncoder | 920   \n",
      "1 | select_q | conv1d     | 8     \n",
      "2 | out      | conv1d     | 16    \n",
      "----------------------------------------\n",
      "895       Trainable params\n",
      "49        Non-trainable params\n",
      "944       Total params\n",
      "0.004     Total estimated model params size (MB)\n"
     ]
    },
    {
     "name": "stdout",
     "output_type": "stream",
     "text": [
      "Epoch 28: 100%|██████████| 68/68 [00:09<00:00,  7.44it/s, v_num=0, val_loss=0.663, train_loss=0.662]\n"
     ]
    },
    {
     "name": "stderr",
     "output_type": "stream",
     "text": [
      "[rank: 0] Seed set to 0\n",
      "[rank: 0] Seed set to 0\n",
      "/home/export/soheuny/.conda/envs/coffea_torch/lib/python3.11/site-packages/lightning_fabric/plugins/environments/slurm.py:204: The `srun` command is available on your system but is not used. HINT: If your intention is to run Lightning on SLURM, prepend your python command with `srun` like so: srun python /home/export/soheuny/.conda/envs/coffea_torch/lib/py ...\n",
      "GPU available: True (cuda), used: True\n",
      "TPU available: False, using: 0 TPU cores\n",
      "IPU available: False, using: 0 IPUs\n",
      "HPU available: False, using: 0 HPUs\n",
      "LOCAL_RANK: 0 - CUDA_VISIBLE_DEVICES: [0]\n",
      "\n",
      "  | Name     | Type       | Params\n",
      "----------------------------------------\n",
      "0 | encoder  | FvTEncoder | 920   \n",
      "1 | select_q | conv1d     | 8     \n",
      "2 | out      | conv1d     | 16    \n",
      "----------------------------------------\n",
      "895       Trainable params\n",
      "49        Non-trainable params\n",
      "944       Total params\n",
      "0.004     Total estimated model params size (MB)\n"
     ]
    },
    {
     "name": "stdout",
     "output_type": "stream",
     "text": [
      "Epoch 29: 100%|██████████| 68/68 [00:06<00:00,  9.99it/s, v_num=0, val_loss=0.659, train_loss=0.659]"
     ]
    },
    {
     "name": "stderr",
     "output_type": "stream",
     "text": [
      "`Trainer.fit` stopped: `max_epochs=30` reached.\n"
     ]
    },
    {
     "name": "stdout",
     "output_type": "stream",
     "text": [
      "Epoch 29: 100%|██████████| 68/68 [00:06<00:00,  9.92it/s, v_num=0, val_loss=0.659, train_loss=0.659]\n"
     ]
    },
    {
     "name": "stderr",
     "output_type": "stream",
     "text": [
      "[rank: 0] Seed set to 0\n",
      "[rank: 0] Seed set to 0\n",
      "/home/export/soheuny/.conda/envs/coffea_torch/lib/python3.11/site-packages/lightning_fabric/plugins/environments/slurm.py:204: The `srun` command is available on your system but is not used. HINT: If your intention is to run Lightning on SLURM, prepend your python command with `srun` like so: srun python /home/export/soheuny/.conda/envs/coffea_torch/lib/py ...\n",
      "GPU available: True (cuda), used: True\n",
      "TPU available: False, using: 0 TPU cores\n",
      "IPU available: False, using: 0 IPUs\n",
      "HPU available: False, using: 0 HPUs\n",
      "LOCAL_RANK: 0 - CUDA_VISIBLE_DEVICES: [0]\n",
      "\n",
      "  | Name     | Type       | Params\n",
      "----------------------------------------\n",
      "0 | encoder  | FvTEncoder | 920   \n",
      "1 | select_q | conv1d     | 8     \n",
      "2 | out      | conv1d     | 16    \n",
      "----------------------------------------\n",
      "895       Trainable params\n",
      "49        Non-trainable params\n",
      "944       Total params\n",
      "0.004     Total estimated model params size (MB)\n"
     ]
    },
    {
     "name": "stdout",
     "output_type": "stream",
     "text": [
      "Epoch 29: 100%|██████████| 68/68 [00:04<00:00, 14.56it/s, v_num=0, val_loss=0.649, train_loss=0.649]"
     ]
    },
    {
     "name": "stderr",
     "output_type": "stream",
     "text": [
      "`Trainer.fit` stopped: `max_epochs=30` reached.\n"
     ]
    },
    {
     "name": "stdout",
     "output_type": "stream",
     "text": [
      "Epoch 29: 100%|██████████| 68/68 [00:04<00:00, 14.44it/s, v_num=0, val_loss=0.649, train_loss=0.649]\n"
     ]
    }
   ],
   "source": [
    "# Case 2: n_train is fixed to 100k, signal ratio is varied\n",
    "\n",
    "n_3b = 100000\n",
    "\n",
    "fvt_results_sr = []\n",
    "for signal_ratio in [0.025, 0.05, 0.1]:\n",
    "    scdinfo_all, df_all = generate_mother_dataset(\n",
    "        n_3b=n_3b,\n",
    "        ratio_4b=ratio_4b,\n",
    "        signal_ratio=signal_ratio,\n",
    "        signal_filename=signal_filename,\n",
    "        seed=seed\n",
    "    )\n",
    "    \n",
    "    scdinfo_base_train, scdinfo_test = split_scdinfo(\n",
    "        scdinfo_all, 0.5, seed\n",
    "    )\n",
    "\n",
    "    idx = np.random.permutation(len(scdinfo_base_train))[:n_train]\n",
    "    scdinfo_base_train_sub = scdinfo_base_train[idx]\n",
    "\n",
    "    base_fvt_hparams = {\n",
    "        \"dim_dijet_features\": 6,\n",
    "        \"dim_quadjet_features\": 6,\n",
    "        \"lr\": 0.001,\n",
    "        \"batch_size\": 1024,\n",
    "        \"max_epochs\": 30,\n",
    "        \"train_seed\": seed,\n",
    "        \"fit_batch_size\": True, \n",
    "        \"data_seed\": seed,\n",
    "        \"val_ratio\": 0.33\n",
    "    }\n",
    "    \n",
    "    pl.seed_everything(seed)\n",
    "    np.random.seed(seed)\n",
    "\n",
    "    base_fvt_tinfo = TrainingInfoV2(base_fvt_hparams, scdinfo_base_train_sub)\n",
    "    \n",
    "    base_fvt_train_dset, base_fvt_val_dset = (\n",
    "        base_fvt_tinfo.fetch_train_val_tensor_datasets(\n",
    "            features, \"fourTag\", \"weight\")\n",
    "    )\n",
    "\n",
    "    base_fvt_model = FvTClassifier(\n",
    "        num_classes,\n",
    "        dim_input_jet_features,\n",
    "        base_fvt_hparams[\"dim_dijet_features\"],\n",
    "        base_fvt_hparams[\"dim_quadjet_features\"],\n",
    "        run_name=base_fvt_tinfo.hash,\n",
    "        device=torch.device(\"cuda:0\"),\n",
    "        lr=base_fvt_hparams[\"lr\"],\n",
    "    )\n",
    "\n",
    "    base_fvt_model.fit(\n",
    "        base_fvt_train_dset,\n",
    "        base_fvt_val_dset,\n",
    "        batch_size=base_fvt_hparams[\"batch_size\"],\n",
    "        max_epochs=base_fvt_hparams[\"max_epochs\"],\n",
    "        train_seed=base_fvt_hparams[\"train_seed\"],\n",
    "        save_checkpoint=False\n",
    "    )\n",
    "\n",
    "    base_fvt_model.eval()\n",
    "    base_fvt_model.to(device)\n",
    "\n",
    "    events_test = events_from_scdinfo(scdinfo_test, features, signal_filename)\n",
    "    probs_est = base_fvt_model.predict(events_test.X_torch)[:, 1].cpu().numpy()\n",
    "    \n",
    "    fvt_results_sr.append({\n",
    "        \"signal_ratio\": signal_ratio,\n",
    "        \"probs_est\": probs_est,\n",
    "        \"events_test\": events_test\n",
    "    })"
   ]
  },
  {
   "cell_type": "code",
   "execution_count": 13,
   "metadata": {},
   "outputs": [
    {
     "data": {
      "image/png": "[encoded data removed]",
      "text/plain": [
       "<Figure size 1500x500 with 3 Axes>"
      ]
     },
     "metadata": {},
     "output_type": "display_data"
    }
   ],
   "source": [
    "bins = np.linspace(0, 1, 30)\n",
    "fig, ax = plt.subplots(nrows=1, ncols=3, figsize=(15, 5))\n",
    "fig.supxlabel(\"Classifier output\")\n",
    "ax[0].set_ylabel(\"Counts\")\n",
    "for i, res in enumerate(fvt_results_sr):\n",
    "    ax[i].set_title(f\"Signal ratio: {res['signal_ratio']}\")\n",
    "    hist_events_by_labels(res[\"events_test\"], res[\"probs_est\"], bins=bins, ax=ax[i])\n",
    "    ax[i].legend()\n",
    "plt.savefig(\"fixed_n_train.pdf\", dpi=300)\n",
    "plt.show()\n",
    "plt.close()"
   ]
  },
  {
   "cell_type": "code",
   "execution_count": null,
   "metadata": {},
   "outputs": [],
   "source": []
  }
 ],
 "metadata": {
  "kernelspec": {
   "display_name": "coffea_torch",
   "language": "python",
   "name": "python3"
  },
  "language_info": {
   "codemirror_mode": {
    "name": "ipython",
    "version": 3
   },
   "file_extension": ".py",
   "mimetype": "text/x-python",
   "name": "python",
   "nbconvert_exporter": "python",
   "pygments_lexer": "ipython3",
   "version": "3.11.9"
  }
 },
 "nbformat": 4,
 "nbformat_minor": 2
}
