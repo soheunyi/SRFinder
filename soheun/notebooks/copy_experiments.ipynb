{
 "cells": [
  {
   "cell_type": "code",
   "execution_count": 3,
   "metadata": {},
   "outputs": [],
   "source": [
    "%load_ext autoreload\n",
    "%autoreload 2\n",
    "%matplotlib inline\n",
    "\n",
    "import os\n",
    "os.chdir('/home/export/soheuny/SRFinder/soheun')"
   ]
  },
  {
   "cell_type": "code",
   "execution_count": 4,
   "metadata": {},
   "outputs": [],
   "source": [
    "# 1. Make directory for moving files\n",
    "from tst_info import TSTInfo\n",
    "from training_info import TrainingInfoV2\n",
    "import os\n",
    "import uuid\n",
    "import shutil\n",
    "\n",
    "def copy_tst_files(source_tst_hashes: list):\n",
    "    def tst_tinfo_linker(tstinfo_hash: str):\n",
    "        tstinfo = TSTInfo.load(tstinfo_hash)\n",
    "        base_fvt_hash = tstinfo.base_fvt_tinfo_hash\n",
    "        base_fvt_checkpoint = f\"{base_fvt_hash}_best.ckpt\"\n",
    "        CR_fvt_hash = tstinfo.CR_fvt_tinfo_hash\n",
    "        CR_fvt_checkpoint = f\"{CR_fvt_hash}_best.ckpt\"\n",
    "        \n",
    "        return base_fvt_hash, base_fvt_checkpoint, CR_fvt_hash, CR_fvt_checkpoint\n",
    "\n",
    "    # source_files = tst_tinfo_linker(hashes[0])\n",
    "    random_dir_name = str(uuid.uuid4())\n",
    "    data_source_dir = TSTInfo.SAVE_DIR / \"..\"\n",
    "    checkpoints_source_dir = TSTInfo.SAVE_DIR / \"..\" / \"..\" / \"checkpoints\"\n",
    "\n",
    "    tinfo_target_dir = data_source_dir / random_dir_name / \"training_info\"\n",
    "    tstinfo_target_dir = data_source_dir / random_dir_name / \"tst_info\"\n",
    "    checkpoints_target_dir = data_source_dir / random_dir_name / \"checkpoints\"\n",
    "\n",
    "    os.makedirs(data_source_dir / random_dir_name, exist_ok=True)\n",
    "    os.makedirs(tinfo_target_dir, exist_ok=True)\n",
    "    os.makedirs(tstinfo_target_dir, exist_ok=True)\n",
    "    os.makedirs(checkpoints_target_dir, exist_ok=True)\n",
    "\n",
    "    for tst_hash in source_tst_hashes:\n",
    "        base_fvt_hash, base_fvt_checkpoint, CR_fvt_hash, CR_fvt_checkpoint = tst_tinfo_linker(tst_hash)\n",
    "        \n",
    "        tst_source = TSTInfo.SAVE_DIR / tst_hash\n",
    "        base_fvt_source = TrainingInfoV2.SAVE_DIR / base_fvt_hash\n",
    "        base_fvt_checkpoint_source = checkpoints_source_dir / base_fvt_checkpoint\n",
    "        CR_fvt_source = TrainingInfoV2.SAVE_DIR / CR_fvt_hash\n",
    "        CR_fvt_checkpoint_source = checkpoints_source_dir / CR_fvt_checkpoint\n",
    "        \n",
    "        tst_target = tstinfo_target_dir / tst_hash\n",
    "        base_fvt_target = tinfo_target_dir / base_fvt_hash\n",
    "        base_fvt_checkpoint_target = checkpoints_target_dir / base_fvt_checkpoint\n",
    "        CR_fvt_target = tinfo_target_dir / CR_fvt_hash\n",
    "        CR_fvt_checkpoint_target = checkpoints_target_dir / CR_fvt_checkpoint\n",
    "        \n",
    "        source_targets = [\n",
    "            (tst_source, tst_target),\n",
    "            (base_fvt_source, base_fvt_target),\n",
    "            (base_fvt_checkpoint_source, base_fvt_checkpoint_target),\n",
    "            (CR_fvt_source, CR_fvt_target),\n",
    "            (CR_fvt_checkpoint_source, CR_fvt_checkpoint_target),\n",
    "        ]\n",
    "        \n",
    "        for source, target in source_targets:\n",
    "            shutil.copy2(source, target)"
   ]
  },
  {
   "cell_type": "code",
   "execution_count": 5,
   "metadata": {},
   "outputs": [
    {
     "name": "stderr",
     "output_type": "stream",
     "text": [
      "1523it [00:02, 759.21it/s]\n"
     ]
    }
   ],
   "source": [
    "import yaml\n",
    "\n",
    "\n",
    "config_filename = \"configs/counting_test_more_CR_train_data.yml\"\n",
    "\n",
    "config = yaml.safe_load(open(config_filename, \"r\"))\n",
    "experiment_name = config[\"experiment_name\"]\n",
    "n_3b = config[\"n_3b\"]\n",
    "ratio_4b = config[\"ratio_4b\"]\n",
    "\n",
    "hashes, hparams = TSTInfo.find({\n",
    "    \"experiment_name\": experiment_name,\n",
    "}, return_hparams=True)\n"
   ]
  },
  {
   "cell_type": "code",
   "execution_count": 7,
   "metadata": {},
   "outputs": [],
   "source": [
    "copy_tst_files(hashes)"
   ]
  }
 ],
 "metadata": {
  "kernelspec": {
   "display_name": "coffea_torch",
   "language": "python",
   "name": "python3"
  },
  "language_info": {
   "codemirror_mode": {
    "name": "ipython",
    "version": 3
   },
   "file_extension": ".py",
   "mimetype": "text/x-python",
   "name": "python",
   "nbconvert_exporter": "python",
   "pygments_lexer": "ipython3",
   "version": "3.11.9"
  }
 },
 "nbformat": 4,
 "nbformat_minor": 2
}
