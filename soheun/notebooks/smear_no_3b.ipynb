{
 "cells": [
  {
   "cell_type": "code",
   "execution_count": null,
   "metadata": {},
   "outputs": [],
   "source": [
    "%load_ext autoreload\n",
    "%autoreload 2\n",
    "%matplotlib inline\n",
    "\n",
    "import os\n",
    "current_pwd = os.getcwd()\n",
    "\n",
    "possible_paths = [\n",
    "    '/home/export/soheuny/SRFinder/soheun/notebooks', \n",
    "    '/home/soheuny/HH4bsim/soheun/notebooks'\n",
    "]\n",
    "    \n",
    "assert os.getcwd() in possible_paths, f\"Did you change the path? It should be one of {possible_paths}\"\n",
    "os.chdir(\"..\")\n",
    "\n",
    "import numpy as np\n",
    "import matplotlib.pyplot as plt\n",
    "from matplotlib.gridspec import GridSpec\n",
    "import torch\n",
    "\n",
    "from plots import hist_events_by_labels\n",
    "from events_data import EventsData\n",
    "from fvt_classifier import FvTClassifier\n",
    "\n",
    "\n",
    "features = [\n",
    "    \"sym_Jet0_pt\", \"sym_Jet1_pt\", \"sym_Jet2_pt\", \"sym_Jet3_pt\",\n",
    "    \"sym_Jet0_eta\", \"sym_Jet1_eta\", \"sym_Jet2_eta\", \"sym_Jet3_eta\",\n",
    "    \"sym_Jet0_phi\", \"sym_Jet1_phi\", \"sym_Jet2_phi\", \"sym_Jet3_phi\",  \n",
    "    \"sym_Jet0_m\", \"sym_Jet1_m\", \"sym_Jet2_m\", \"sym_Jet3_m\",\n",
    "]"
   ]
  }
 ],
 "metadata": {
  "language_info": {
   "name": "python"
  }
 },
 "nbformat": 4,
 "nbformat_minor": 2
}
