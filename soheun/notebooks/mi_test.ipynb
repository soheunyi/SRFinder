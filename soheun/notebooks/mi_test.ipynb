{
 "cells": [
  {
   "cell_type": "code",
   "execution_count": 2,
   "metadata": {},
   "outputs": [],
   "source": [
    "%load_ext autoreload\n",
    "%autoreload 2\n",
    "%matplotlib inline\n",
    "\n",
    "import os\n",
    "current_pwd = os.getcwd()\n",
    "\n",
    "possible_paths = [\n",
    "    '/home/export/soheuny/SRFinder/soheun/notebooks', \n",
    "    '/home/soheuny/HH4bsim/soheun/notebooks'\n",
    "]\n",
    "    \n",
    "assert os.getcwd() in possible_paths, f\"Did you change the path? It should be one of {possible_paths}\"\n",
    "os.chdir(\"..\")\n",
    "\n",
    "import numpy as np\n",
    "import matplotlib.pyplot as plt\n",
    "from matplotlib.gridspec import GridSpec\n",
    "import torch\n",
    "\n",
    "from plots import hist_events_by_labels\n",
    "from events_data import EventsData\n",
    "from fvt_classifier import FvTClassifier\n",
    "\n",
    "\n",
    "features = [\n",
    "    \"sym_Jet0_pt\", \"sym_Jet1_pt\", \"sym_Jet2_pt\", \"sym_Jet3_pt\",\n",
    "    \"sym_Jet0_eta\", \"sym_Jet1_eta\", \"sym_Jet2_eta\", \"sym_Jet3_eta\",\n",
    "    \"sym_Jet0_phi\", \"sym_Jet1_phi\", \"sym_Jet2_phi\", \"sym_Jet3_phi\",  \n",
    "    \"sym_Jet0_m\", \"sym_Jet1_m\", \"sym_Jet2_m\", \"sym_Jet3_m\",\n",
    "]"
   ]
  },
  {
   "cell_type": "code",
   "execution_count": 12,
   "metadata": {},
   "outputs": [],
   "source": [
    "import pandas as pd\n",
    "\n",
    "n_3b = 1_000_000\n",
    "experiment_name = \"counting_test_v2\"\n",
    "df = pd.read_csv(f\"./data/tsv/tst_results_summary_{experiment_name}_n_3b={n_3b}_mi_test.tsv\", sep=\"\\t\")"
   ]
  },
  {
   "cell_type": "code",
   "execution_count": 13,
   "metadata": {},
   "outputs": [
    {
     "name": "stdout",
     "output_type": "stream",
     "text": [
      "{'n_3b': 1000000, '4b_in_SR': 0.2}\n",
      "Permutation test -- AUC\n"
     ]
    },
    {
     "data": {
      "text/plain": [
       "signal_ratio\n",
       "0.00    0.10\n",
       "0.01    0.16\n",
       "0.02    0.70\n",
       "Name: reject_null_auc_permutation, dtype: float64"
      ]
     },
     "metadata": {},
     "output_type": "display_data"
    },
    {
     "name": "stdout",
     "output_type": "stream",
     "text": [
      "Permutation test -- MCE\n"
     ]
    },
    {
     "data": {
      "text/plain": [
       "signal_ratio\n",
       "0.00    0.11\n",
       "0.01    0.12\n",
       "0.02    0.55\n",
       "Name: reject_null_mce_permutation, dtype: float64"
      ]
     },
     "metadata": {},
     "output_type": "display_data"
    },
    {
     "name": "stdout",
     "output_type": "stream",
     "text": [
      "Bootstrap test -- AUC\n"
     ]
    },
    {
     "data": {
      "text/plain": [
       "signal_ratio\n",
       "0.00    0.10\n",
       "0.01    0.16\n",
       "0.02    0.71\n",
       "Name: reject_null_auc_bootstrap, dtype: float64"
      ]
     },
     "metadata": {},
     "output_type": "display_data"
    },
    {
     "name": "stdout",
     "output_type": "stream",
     "text": [
      "Bootstrap test -- MCE\n"
     ]
    },
    {
     "data": {
      "text/plain": [
       "signal_ratio\n",
       "0.00    0.12\n",
       "0.01    0.12\n",
       "0.02    0.54\n",
       "Name: reject_null_mce_bootstrap, dtype: float64"
      ]
     },
     "metadata": {},
     "output_type": "display_data"
    }
   ],
   "source": [
    "from tst_info import TSTInfo\n",
    "\n",
    "experiment_name = \"counting_test_v2\"\n",
    "n_3b = 1_000_000\n",
    "\n",
    "hparam_filter = {\n",
    "    \"experiment_name\": experiment_name,\n",
    "    \"n_3b\": n_3b,\n",
    "}\n",
    "\n",
    "hashes = TSTInfo.find(hparam_filter)\n",
    "tst_info = TSTInfo.load(hashes[0])\n",
    "print({\"n_3b\": tst_info.hparams[\"n_3b\"], \"4b_in_SR\": tst_info.hparams[\"SRCR\"][\"4b_in_SR\"]})\n",
    "\n",
    "sig_level = 0.05\n",
    "df[\"reject_null_auc_permutation\"] = df[\"p_value_auc_permutation\"] < sig_level\n",
    "df[\"reject_null_mce_permutation\"] = df[\"p_value_mce_permutation\"] < sig_level\n",
    "df[\"reject_null_auc_bootstrap\"] = df[\"p_value_auc_bootstrap\"] < sig_level\n",
    "df[\"reject_null_mce_bootstrap\"] = df[\"p_value_mce_bootstrap\"] < sig_level\n",
    "\n",
    "print(\"Permutation test -- AUC\")\n",
    "display(df.groupby([\"signal_ratio\"])[\"reject_null_auc_permutation\"].mean())\n",
    "print(\"Permutation test -- MCE\")\n",
    "display(df.groupby([\"signal_ratio\"])[\"reject_null_mce_permutation\"].mean())\n",
    "print(\"Bootstrap test -- AUC\")\n",
    "display(df.groupby([\"signal_ratio\"])[\"reject_null_auc_bootstrap\"].mean())\n",
    "print(\"Bootstrap test -- MCE\")\n",
    "display(df.groupby([\"signal_ratio\"])[\"reject_null_mce_bootstrap\"].mean())"
   ]
  },
  {
   "cell_type": "code",
   "execution_count": 14,
   "metadata": {},
   "outputs": [
    {
     "data": {
      "image/png": "[encoded data removed]",
      "text/plain": [
       "<Figure size 1000x600 with 1 Axes>"
      ]
     },
     "metadata": {},
     "output_type": "display_data"
    }
   ],
   "source": [
    "fig, ax = plt.subplots(figsize=(10, 6))\n",
    "df_s0 = df[df[\"signal_ratio\"] == 0.01]\n",
    "bins = np.linspace(0, 1, 10)\n",
    "plt.hist(df_s0[\"p_value_auc_permutation\"], bins=bins, alpha=0.5, label=\"Permutation test -- AUC\")\n",
    "plt.hist(df_s0[\"p_value_mce_permutation\"], bins=bins, alpha=0.5, label=\"Permutation test -- MCE\")\n",
    "plt.ylabel(\"Frequency\")\n",
    "plt.legend()\n",
    "plt.show()"
   ]
  },
  {
   "cell_type": "code",
   "execution_count": 15,
   "metadata": {},
   "outputs": [
    {
     "name": "stdout",
     "output_type": "stream",
     "text": [
      "{'n_3b': 1400000, '4b_in_SR': 0.1}\n",
      "Permutation test -- AUC\n"
     ]
    },
    {
     "data": {
      "text/plain": [
       "signal_ratio\n",
       "0.00    0.12\n",
       "0.01    0.38\n",
       "0.02    0.94\n",
       "Name: reject_null_auc_permutation, dtype: float64"
      ]
     },
     "metadata": {},
     "output_type": "display_data"
    },
    {
     "name": "stdout",
     "output_type": "stream",
     "text": [
      "Permutation test -- MCE\n"
     ]
    },
    {
     "data": {
      "text/plain": [
       "signal_ratio\n",
       "0.00    0.12\n",
       "0.01    0.24\n",
       "0.02    0.90\n",
       "Name: reject_null_mce_permutation, dtype: float64"
      ]
     },
     "metadata": {},
     "output_type": "display_data"
    },
    {
     "name": "stdout",
     "output_type": "stream",
     "text": [
      "Bootstrap test -- AUC\n"
     ]
    },
    {
     "data": {
      "text/plain": [
       "signal_ratio\n",
       "0.00    0.12\n",
       "0.01    0.38\n",
       "0.02    0.94\n",
       "Name: reject_null_auc_bootstrap, dtype: float64"
      ]
     },
     "metadata": {},
     "output_type": "display_data"
    },
    {
     "name": "stdout",
     "output_type": "stream",
     "text": [
      "Bootstrap test -- MCE\n"
     ]
    },
    {
     "data": {
      "text/plain": [
       "signal_ratio\n",
       "0.00    0.10\n",
       "0.01    0.24\n",
       "0.02    0.90\n",
       "Name: reject_null_mce_bootstrap, dtype: float64"
      ]
     },
     "metadata": {},
     "output_type": "display_data"
    }
   ],
   "source": [
    "from tst_info import TSTInfo\n",
    "\n",
    "experiment_name = \"counting_test_high_4b_in_CR\"\n",
    "n_3b = 1_400_000\n",
    "\n",
    "hparam_filter = {\n",
    "    \"experiment_name\": experiment_name,\n",
    "    \"n_3b\": n_3b,\n",
    "}\n",
    "\n",
    "hashes = TSTInfo.find(hparam_filter)\n",
    "tst_info = TSTInfo.load(hashes[0])\n",
    "print({\"n_3b\": tst_info.hparams[\"n_3b\"], \"4b_in_SR\": tst_info.hparams[\"SRCR\"][\"4b_in_SR\"]})\n",
    "\n",
    "\n",
    "\n",
    "sig_level = 0.05\n",
    "\n",
    "df_list = []\n",
    "for i in range(5):\n",
    "    df_name = f\"./data/tsv/tst_results_summary_{experiment_name}_n_3b={n_3b}_mi_test_seed={10 * i}_to_{10 * (i + 1)}.tsv\"\n",
    "    if os.path.exists(df_name):\n",
    "        df_list.append(pd.read_csv(df_name, sep=\"\\t\"))\n",
    "df = pd.concat(df_list)\n",
    "df[\"reject_null_auc_permutation\"] = df[\"p_value_auc_permutation\"] < sig_level\n",
    "df[\"reject_null_mce_permutation\"] = df[\"p_value_mce_permutation\"] < sig_level\n",
    "df[\"reject_null_auc_bootstrap\"] = df[\"p_value_auc_bootstrap\"] < sig_level\n",
    "df[\"reject_null_mce_bootstrap\"] = df[\"p_value_mce_bootstrap\"] < sig_level\n",
    "\n",
    "print(\"Permutation test -- AUC\")\n",
    "display(df.groupby([\"signal_ratio\"])[\"reject_null_auc_permutation\"].mean())\n",
    "print(\"Permutation test -- MCE\")\n",
    "display(df.groupby([\"signal_ratio\"])[\"reject_null_mce_permutation\"].mean())\n",
    "print(\"Bootstrap test -- AUC\")\n",
    "display(df.groupby([\"signal_ratio\"])[\"reject_null_auc_bootstrap\"].mean())\n",
    "print(\"Bootstrap test -- MCE\")\n",
    "display(df.groupby([\"signal_ratio\"])[\"reject_null_mce_bootstrap\"].mean())\n"
   ]
  },
  {
   "cell_type": "code",
   "execution_count": null,
   "metadata": {},
   "outputs": [],
   "source": []
  }
 ],
 "metadata": {
  "kernelspec": {
   "display_name": "coffea_torch",
   "language": "python",
   "name": "python3"
  },
  "language_info": {
   "codemirror_mode": {
    "name": "ipython",
    "version": 3
   },
   "file_extension": ".py",
   "mimetype": "text/x-python",
   "name": "python",
   "nbconvert_exporter": "python",
   "pygments_lexer": "ipython3",
   "version": "3.11.9"
  }
 },
 "nbformat": 4,
 "nbformat_minor": 2
}
