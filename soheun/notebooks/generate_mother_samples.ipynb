{
 "cells": [
  {
   "cell_type": "code",
   "execution_count": 1,
   "metadata": {},
   "outputs": [],
   "source": [
    "%load_ext autoreload\n",
    "%autoreload 2\n",
    "%matplotlib inline\n",
    "\n",
    "import os\n",
    "current_pwd = os.getcwd()\n",
    "\n",
    "possible_paths = [\n",
    "    '/home/export/soheuny/SRFinder/soheun/notebooks', \n",
    "    '/home/soheuny/HH4bsim/soheun/notebooks'\n",
    "]\n",
    "    \n",
    "assert os.getcwd() in possible_paths, f\"Did you change the path? It should be one of {possible_paths}\"\n",
    "os.chdir(\"..\")\n",
    "\n",
    "import numpy as np\n",
    "import matplotlib.pyplot as plt\n",
    "from matplotlib.gridspec import GridSpec\n",
    "import torch\n",
    "\n",
    "from plots import hist_events_by_labels\n",
    "from events_data import EventsData\n",
    "from fvt_classifier import FvTClassifier\n",
    "from tst_info import TSTInfo\n",
    "# import LogNorm\n",
    "from matplotlib.colors import LogNorm\n",
    "\n",
    "\n",
    "features = [\n",
    "    \"sym_Jet0_pt\", \"sym_Jet1_pt\", \"sym_Jet2_pt\", \"sym_Jet3_pt\",\n",
    "    \"sym_Jet0_eta\", \"sym_Jet1_eta\", \"sym_Jet2_eta\", \"sym_Jet3_eta\",\n",
    "    \"sym_Jet0_phi\", \"sym_Jet1_phi\", \"sym_Jet2_phi\", \"sym_Jet3_phi\",  \n",
    "    \"sym_Jet0_m\", \"sym_Jet1_m\", \"sym_Jet2_m\", \"sym_Jet3_m\",\n",
    "]"
   ]
  },
  {
   "cell_type": "code",
   "execution_count": 2,
   "metadata": {},
   "outputs": [],
   "source": [
    "# from dataset import MotherSamples\n",
    "# import tqdm\n",
    "\n",
    "# for sr in [0.01, 0.02]:\n",
    "#     for seed in tqdm.tqdm(range(100)):\n",
    "#         hparams = {\n",
    "#             \"n_3b\": 100_0000,\n",
    "#             \"ratio_4b\": 0.5,\n",
    "#             \"signal_ratio\": sr,\n",
    "#             \"signal_filename\": \"HH4b_picoAOD.h5\",\n",
    "#             \"seed\": seed,\n",
    "#         }\n",
    "\n",
    "#         ms = MotherSamples.from_hparams(hparams)\n",
    "#         ms.save(verbose=False)\n",
    "\n",
    "# MotherSamples.update_metadata()"
   ]
  },
  {
   "cell_type": "code",
   "execution_count": 3,
   "metadata": {},
   "outputs": [],
   "source": [
    "from dataset import MotherSamples\n",
    "\n",
    "hparams = {\n",
    "        \"n_3b\": 100_0000,\n",
    "        \"ratio_4b\": 0.5,\n",
    "        \"signal_ratio\": 0.0,\n",
    "        \"signal_filename\": \"HH4b_picoAOD.h5\",\n",
    "        \"seed\": 0,\n",
    "    }\n",
    "\n",
    "ms1 = MotherSamples.from_hparams(hparams)\n",
    "ms2 = MotherSamples.from_hparams(hparams)\n",
    "\n",
    "assert np.all(ms1.scdinfo.fetch_data()[\"Jet0_pt\"] == ms2.scdinfo.fetch_data()[\"Jet0_pt\"])"
   ]
  },
  {
   "cell_type": "code",
   "execution_count": 4,
   "metadata": {},
   "outputs": [],
   "source": [
    "from training_info import TrainingInfo"
   ]
  },
  {
   "cell_type": "code",
   "execution_count": 5,
   "metadata": {},
   "outputs": [
    {
     "name": "stdout",
     "output_type": "stream",
     "text": [
      "16761064\n"
     ]
    }
   ],
   "source": [
    "import sys\n",
    "\n",
    "print(sys.getsizeof(np.arange(len(ms1))))\n"
   ]
  },
  {
   "cell_type": "code",
   "execution_count": 8,
   "metadata": {},
   "outputs": [
    {
     "name": "stdout",
     "output_type": "stream",
     "text": [
      "1.9981679916381836\n"
     ]
    }
   ],
   "source": [
    "print(sys.getsizeof(np.full(len(ms1), True)) / 1024 / 1024)"
   ]
  },
  {
   "cell_type": "code",
   "execution_count": null,
   "metadata": {},
   "outputs": [],
   "source": []
  }
 ],
 "metadata": {
  "kernelspec": {
   "display_name": "coffea_torch",
   "language": "python",
   "name": "python3"
  },
  "language_info": {
   "codemirror_mode": {
    "name": "ipython",
    "version": 3
   },
   "file_extension": ".py",
   "mimetype": "text/x-python",
   "name": "python",
   "nbconvert_exporter": "python",
   "pygments_lexer": "ipython3",
   "version": "3.11.9"
  }
 },
 "nbformat": 4,
 "nbformat_minor": 2
}
